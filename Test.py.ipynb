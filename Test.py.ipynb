{
 "cells": [
  {
   "cell_type": "markdown",
   "metadata": {},
   "source": [
    "# 学習結果の確認"
   ]
  },
  {
   "cell_type": "code",
   "execution_count": 1,
   "metadata": {
    "collapsed": false
   },
   "outputs": [
    {
     "name": "stderr",
     "output_type": "stream",
     "text": [
      "/home/smurakami/.pyenv/versions/anaconda3-4.2.0/lib/python3.5/site-packages/h5py/__init__.py:36: FutureWarning: Conversion of the second argument of issubdtype from `float` to `np.floating` is deprecated. In future, it will be treated as `np.float64 == np.dtype(float).type`.\n",
      "  from ._conv import register_converters as _register_converters\n"
     ]
    }
   ],
   "source": [
    "import tensorflow as tf\n",
    "import numpy as np\n",
    "import matplotlib.pyplot as plt\n",
    "%matplotlib inline\n",
    "\n",
    "import model"
   ]
  },
  {
   "cell_type": "markdown",
   "metadata": {},
   "source": [
    "# グラフの構築"
   ]
  },
  {
   "cell_type": "code",
   "execution_count": 2,
   "metadata": {
    "collapsed": false
   },
   "outputs": [],
   "source": [
    "X_input = tf.placeholder(np.uint8, shape=[None, 784])"
   ]
  },
  {
   "cell_type": "code",
   "execution_count": 3,
   "metadata": {
    "collapsed": false
   },
   "outputs": [],
   "source": [
    "image = tf.reshape(X_input, [-1, 28, 28, 1])"
   ]
  },
  {
   "cell_type": "code",
   "execution_count": 4,
   "metadata": {
    "collapsed": false
   },
   "outputs": [],
   "source": [
    "image_normed = tf.cast(image, tf.float32) / 255.0 * 2 - 1"
   ]
  },
  {
   "cell_type": "code",
   "execution_count": 5,
   "metadata": {
    "collapsed": true
   },
   "outputs": [],
   "source": [
    "with tf.variable_scope('classifier', reuse=tf.AUTO_REUSE):\n",
    "    y_predicted_ = model.classifier(image_normed, classnum=12)"
   ]
  },
  {
   "cell_type": "code",
   "execution_count": 6,
   "metadata": {
    "collapsed": true
   },
   "outputs": [],
   "source": [
    "y_input = tf.placeholder(np.int64, [None])"
   ]
  },
  {
   "cell_type": "code",
   "execution_count": 7,
   "metadata": {
    "collapsed": false
   },
   "outputs": [],
   "source": [
    "y_input_ = tf.one_hot(y_input, 12)"
   ]
  },
  {
   "cell_type": "code",
   "execution_count": 8,
   "metadata": {
    "collapsed": true
   },
   "outputs": [],
   "source": [
    "y_predicted = tf.argmax(y_predicted_, axis=1)"
   ]
  },
  {
   "cell_type": "code",
   "execution_count": 9,
   "metadata": {
    "collapsed": false
   },
   "outputs": [],
   "source": [
    "acc = tf.reduce_mean(tf.cast(tf.equal(y_input,    y_predicted), tf.float64))"
   ]
  },
  {
   "cell_type": "code",
   "execution_count": 10,
   "metadata": {
    "collapsed": false
   },
   "outputs": [],
   "source": [
    "loss = -tf.reduce_mean(y_input_ * tf.log(y_predicted_))"
   ]
  },
  {
   "cell_type": "code",
   "execution_count": 11,
   "metadata": {
    "collapsed": true
   },
   "outputs": [],
   "source": [
    "opt = tf.train.GradientDescentOptimizer(0.01).minimize(loss)"
   ]
  },
  {
   "cell_type": "markdown",
   "metadata": {},
   "source": [
    "# データのロード"
   ]
  },
  {
   "cell_type": "code",
   "execution_count": 12,
   "metadata": {
    "collapsed": true
   },
   "outputs": [],
   "source": [
    "import glob"
   ]
  },
  {
   "cell_type": "code",
   "execution_count": 13,
   "metadata": {
    "collapsed": true
   },
   "outputs": [],
   "source": [
    "classnames = [line.strip() for line in open('instrument_categories.txt') if line.strip() != \"\"]\n",
    "classnames =list(sorted(classnames))\n",
    "filenames = ['data/{}.npy'.format(classname) for classname in classnames]"
   ]
  },
  {
   "cell_type": "code",
   "execution_count": 14,
   "metadata": {
    "collapsed": false
   },
   "outputs": [],
   "source": [
    "X = []\n",
    "y = []\n",
    "for index, file in enumerate(filenames):\n",
    "    data = np.load(file)\n",
    "    X.append(data)\n",
    "    y.append(np.ones(len(data), dtype=int) * index)\n",
    "    \n",
    "X = np.vstack(X)\n",
    "y = np.hstack(y)"
   ]
  },
  {
   "cell_type": "code",
   "execution_count": 15,
   "metadata": {
    "collapsed": false
   },
   "outputs": [],
   "source": [
    "from sklearn.model_selection import train_test_split\n",
    "X_train, X_test, y_train, y_test = train_test_split(X, y, test_size=0.2, random_state=111)"
   ]
  },
  {
   "cell_type": "code",
   "execution_count": 16,
   "metadata": {
    "collapsed": false
   },
   "outputs": [
    {
     "name": "stdout",
     "output_type": "stream",
     "text": [
      "INFO:tensorflow:Restoring parameters from ./checkpoint/model-19\n"
     ]
    }
   ],
   "source": [
    "from tqdm import tqdm\n",
    "\n",
    "batch_num = 128\n",
    "\n",
    "sess = tf.Session()\n",
    "saver = tf.train.Saver()\n",
    "saver.restore(sess, './checkpoint/model-19')\n",
    "    \n",
    "# loss_buf = []\n",
    "# acc_buf = []\n",
    "# for index in tqdm(range(0, len(X_test), batch_num)):\n",
    "#     X_batch = X_test[index:index+batch_num]\n",
    "#     y_batch = y_test[index:index+batch_num]\n",
    "#     loss_test, acc_test = sess.run([loss, acc], {X_input: X_batch, y_input: y_batch})\n",
    "#     loss_buf.append(loss_test)\n",
    "#     acc_buf.append(acc_test)\n",
    "\n",
    "# loss_test = np.mean(loss_buf)\n",
    "# acc_test = np.mean(acc_test)\n",
    "\n",
    "# print(\"loss_test: {}, acc_test: {}\".format(loss_test, acc_test))\n",
    "\n",
    "\n",
    "        "
   ]
  },
  {
   "cell_type": "code",
   "execution_count": 33,
   "metadata": {
    "collapsed": false
   },
   "outputs": [
    {
     "data": {
      "text/html": [
       "\n",
       "<table>\n",
       "<td style=\"border-style: none;\">\n",
       "<div style=\"border: solid 2px #666; width: 280px; height: 280px;\">\n",
       "<canvas width=\"140\" height=\"140\", style=\"border: solid 2px #666; width: 280px; height: 280px;\"></canvas>\n",
       "</td>\n",
       "<td style=\"border-style: none;\">\n",
       "<button onclick=\"clear_value()\">Clear</button>\n",
       "<button onclick=\"set_value()\">Save</button>\n",
       "\n",
       "</td>\n",
       "</table>\n",
       "\n",
       "<script type=\"text/Javascript\">\n",
       "\tvar pixels = [];\n",
       "\tfor(var i = 0; i < 28*28; i++) pixels[i] = 0\n",
       "\tvar click=0;\n",
       "\tvar button_state=0;\n",
       "    \n",
       "    var width = 140;\n",
       "    var height = 140;\n",
       "    \n",
       "\tvar canvas = document.querySelector(\"canvas\");\n",
       "    var prev = null;\n",
       "    \n",
       "    canvas.addEventListener(\"mousedown\", function(e){\n",
       "        button_state=1;\n",
       "        prev = {x: e.offsetX/2, y: e.offsetY/2};\n",
       "    });\n",
       "    canvas.addEventListener(\"mouseup\", function(e){\n",
       "        button_state=0;\n",
       "//        set_value();\n",
       "    });\n",
       "    canvas.addEventListener(\"mouseleave\", function(e){\n",
       "        button_state=0;\n",
       "    });\n",
       "\t\n",
       "\tcanvas.addEventListener(\"mousemove\", function(e){\n",
       "        if(button_state){\n",
       "            var pos = {x: e.offsetX/2, y: e.offsetY/2};;\n",
       "            click = 1;\n",
       "            canvas.getContext(\"2d\").beginPath()\n",
       "            canvas.getContext(\"2d\").lineCap = \"round\";\n",
       "\t\t\tcanvas.getContext(\"2d\").lineWidth = 8;\n",
       "\t\t\tcanvas.getContext(\"2d\").strokeStyle = 'rgba(0, 0, 0, 1)';\n",
       "\t\t\tcanvas.getContext(\"2d\").moveTo(prev.x, prev.y);\n",
       "\t\t\tcanvas.getContext(\"2d\").lineTo(pos.x, pos.y);\n",
       "\t\t\tcanvas.getContext(\"2d\").stroke();\n",
       "//            canvas.getContext(\"2d\").endPath()\n",
       "            prev = pos;\n",
       "            \n",
       "\t\t}else{\n",
       "//            if(click == 1) set_value()\n",
       "\t\t\tclick = 0;\n",
       "\t\t}\n",
       "\t});\n",
       "    \n",
       "    function callback(out_type, out_data){\n",
       "        // do_something\n",
       "        console.log(out_data);\n",
       "    }\n",
       "\t\n",
       "\tfunction set_value(){\n",
       "        var pix = canvas.getContext(\"2d\").getImageData(0, 0, width, height).data;\n",
       "\t\tvar result = \"\";\n",
       "\t\tfor(var i=0;i<pix.length;i++) result += pix[i] + \",\";\n",
       "\t\tvar kernel = IPython.notebook.kernel;\n",
       "\t\tkernel.execute(\"image = [\" + result + \"]\");\n",
       "\t\tkernel.execute(\"image = np.array(image)\");\n",
       "\t\tkernel.execute(\"image = image.reshape(\" + height + \", \" + width + \", 4)\");\n",
       "\t\tkernel.execute(\"image = image[:, :, 0:3].sum(axis=2)/3\");\n",
       "\t\tkernel.execute(\"image = scipy.misc.imresize(image, (28, 28))\");       \n",
       "\t\tkernel.execute(\"image = 1 - (image / 255.0)\");       \n",
       "\t\tkernel.execute(\"image = (image * 255).astype(np.uint8)\");       \n",
       "\t}\n",
       "\t\n",
       "\tfunction clear_value(){\n",
       "        canvas.getContext(\"2d\").fillStyle = \"rgb(255,255,255)\";\n",
       "\t\tcanvas.getContext(\"2d\").fillRect(0,0, width,height);\n",
       "\t\tfor(var i=0;i<28*28;i++) pixels[i]=0\n",
       "\t}\n",
       "    \n",
       "    clear_value()\n",
       "</script>\n"
      ],
      "text/plain": [
       "<IPython.core.display.HTML object>"
      ]
     },
     "execution_count": 33,
     "metadata": {},
     "output_type": "execute_result"
    }
   ],
   "source": [
    "import scipy\n",
    "input_form = \"\"\"\n",
    "<table>\n",
    "<td style=\"border-style: none;\">\n",
    "<div style=\"border: solid 2px #666; width: 280px; height: 280px;\">\n",
    "<canvas width=\"140\" height=\"140\", style=\"border: solid 2px #666; width: 280px; height: 280px;\"></canvas>\n",
    "</td>\n",
    "<td style=\"border-style: none;\">\n",
    "<button onclick=\"clear_value()\">Clear</button>\n",
    "<button onclick=\"set_value()\">Save</button>\n",
    "\n",
    "</td>\n",
    "</table>\n",
    "\"\"\"\n",
    "\n",
    "javascript=\"\"\"\n",
    "<script type=\"text/Javascript\">\n",
    "\tvar pixels = [];\n",
    "\tfor(var i = 0; i < 28*28; i++) pixels[i] = 0\n",
    "\tvar click=0;\n",
    "\tvar button_state=0;\n",
    "    \n",
    "    var width = 140;\n",
    "    var height = 140;\n",
    "    \n",
    "\tvar canvas = document.querySelector(\"canvas\");\n",
    "    var prev = null;\n",
    "    \n",
    "    canvas.addEventListener(\"mousedown\", function(e){\n",
    "        button_state=1;\n",
    "        prev = {x: e.offsetX/2, y: e.offsetY/2};\n",
    "    });\n",
    "    canvas.addEventListener(\"mouseup\", function(e){\n",
    "        button_state=0;\n",
    "//        set_value();\n",
    "    });\n",
    "    canvas.addEventListener(\"mouseleave\", function(e){\n",
    "        button_state=0;\n",
    "    });\n",
    "\t\n",
    "\tcanvas.addEventListener(\"mousemove\", function(e){\n",
    "        if(button_state){\n",
    "            var pos = {x: e.offsetX/2, y: e.offsetY/2};;\n",
    "            click = 1;\n",
    "            canvas.getContext(\"2d\").beginPath()\n",
    "            canvas.getContext(\"2d\").lineCap = \"round\";\n",
    "\t\t\tcanvas.getContext(\"2d\").lineWidth = 8;\n",
    "\t\t\tcanvas.getContext(\"2d\").strokeStyle = 'rgba(0, 0, 0, 1)';\n",
    "\t\t\tcanvas.getContext(\"2d\").moveTo(prev.x, prev.y);\n",
    "\t\t\tcanvas.getContext(\"2d\").lineTo(pos.x, pos.y);\n",
    "\t\t\tcanvas.getContext(\"2d\").stroke();\n",
    "//            canvas.getContext(\"2d\").endPath()\n",
    "            prev = pos;\n",
    "            \n",
    "\t\t}else{\n",
    "//            if(click == 1) set_value()\n",
    "\t\t\tclick = 0;\n",
    "\t\t}\n",
    "\t});\n",
    "    \n",
    "    function callback(out_type, out_data){\n",
    "        // do_something\n",
    "        console.log(out_data);\n",
    "    }\n",
    "\t\n",
    "\tfunction set_value(){\n",
    "        var pix = canvas.getContext(\"2d\").getImageData(0, 0, width, height).data;\n",
    "\t\tvar result = \"\";\n",
    "\t\tfor(var i=0;i<pix.length;i++) result += pix[i] + \",\";\n",
    "\t\tvar kernel = IPython.notebook.kernel;\n",
    "\t\tkernel.execute(\"image = [\" + result + \"]\");\n",
    "\t\tkernel.execute(\"image = np.array(image)\");\n",
    "\t\tkernel.execute(\"image = image.reshape(\" + height + \", \" + width + \", 4)\");\n",
    "\t\tkernel.execute(\"image = image[:, :, 0:3].sum(axis=2)/3\");\n",
    "\t\tkernel.execute(\"image = scipy.misc.imresize(image, (28, 28))\");       \n",
    "\t\tkernel.execute(\"image = 1 - (image / 255.0)\");       \n",
    "\t\tkernel.execute(\"image = (image * 255).astype(np.uint8)\");       \n",
    "\t}\n",
    "\t\n",
    "\tfunction clear_value(){\n",
    "        canvas.getContext(\"2d\").fillStyle = \"rgb(255,255,255)\";\n",
    "\t\tcanvas.getContext(\"2d\").fillRect(0,0, width,height);\n",
    "\t\tfor(var i=0;i<28*28;i++) pixels[i]=0\n",
    "\t}\n",
    "    \n",
    "    clear_value()\n",
    "</script>\n",
    "\"\"\"\n",
    "\n",
    "from IPython.display import HTML\n",
    "HTML(input_form + javascript)"
   ]
  },
  {
   "cell_type": "code",
   "execution_count": 39,
   "metadata": {
    "collapsed": false
   },
   "outputs": [
    {
     "data": {
      "text/plain": [
       "<matplotlib.image.AxesImage at 0x7f2c063fe128>"
      ]
     },
     "execution_count": 39,
     "metadata": {},
     "output_type": "execute_result"
    },
    {
     "data": {
      "image/png": "[encoded data removed]",
      "text/plain": [
       "<matplotlib.figure.Figure at 0x7f2c0c379908>"
      ]
     },
     "metadata": {},
     "output_type": "display_data"
    }
   ],
   "source": [
    "plt.imshow(image, interpolation='nearest', cmap='gray')"
   ]
  },
  {
   "cell_type": "code",
   "execution_count": 40,
   "metadata": {
    "collapsed": false
   },
   "outputs": [
    {
     "name": "stdout",
     "output_type": "stream",
     "text": [
      "cat\n"
     ]
    }
   ],
   "source": [
    "idx = sess.run(y_predicted, {X_input: image.reshape(-1, 784)})[0]\n",
    "print(classnames[idx])"
   ]
  },
  {
   "cell_type": "code",
   "execution_count": null,
   "metadata": {
    "collapsed": true
   },
   "outputs": [],
   "source": []
  },
  {
   "cell_type": "code",
   "execution_count": 41,
   "metadata": {
    "collapsed": false
   },
   "outputs": [
    {
     "data": {
      "text/plain": [
       "<matplotlib.image.AxesImage at 0x7f2bef0852b0>"
      ]
     },
     "execution_count": 41,
     "metadata": {},
     "output_type": "execute_result"
    },
    {
     "data": {
      "image/png": "[encoded data removed]",
      "text/plain": [
       "<matplotlib.figure.Figure at 0x7f2c064243c8>"
      ]
     },
     "metadata": {},
     "output_type": "display_data"
    }
   ],
   "source": [
    "plt.imshow(X_train[0].reshape(28, 28), interpolation='nearest', cmap='gray')"
   ]
  },
  {
   "cell_type": "code",
   "execution_count": 42,
   "metadata": {
    "collapsed": false
   },
   "outputs": [
    {
     "data": {
      "text/plain": [
       "array([9])"
      ]
     },
     "execution_count": 42,
     "metadata": {},
     "output_type": "execute_result"
    }
   ],
   "source": [
    "sess.run(y_predicted, {X_input: X_train[0].reshape(-1, 784)})"
   ]
  },
  {
   "cell_type": "code",
   "execution_count": 43,
   "metadata": {
    "collapsed": false
   },
   "outputs": [
    {
     "data": {
      "text/plain": [
       "<tf.Tensor 'classifier/Softmax:0' shape=(?, 12) dtype=float32>"
      ]
     },
     "execution_count": 43,
     "metadata": {},
     "output_type": "execute_result"
    }
   ],
   "source": [
    "y_predicted_"
   ]
  },
  {
   "cell_type": "code",
   "execution_count": 44,
   "metadata": {
    "collapsed": false
   },
   "outputs": [
    {
     "data": {
      "text/plain": [
       "'tmp/model.ckpt'"
      ]
     },
     "execution_count": 44,
     "metadata": {},
     "output_type": "execute_result"
    }
   ],
   "source": [
    "saver.save(sess, 'tmp/model.ckpt')"
   ]
  },
  {
   "cell_type": "code",
   "execution_count": 18,
   "metadata": {
    "collapsed": false
   },
   "outputs": [],
   "source": [
    "builder = tf.saved_model.builder.SavedModelBuilder('./saved_model')"
   ]
  },
  {
   "cell_type": "code",
   "execution_count": 19,
   "metadata": {
    "collapsed": false
   },
   "outputs": [
    {
     "name": "stdout",
     "output_type": "stream",
     "text": [
      "INFO:tensorflow:No assets to save.\n",
      "INFO:tensorflow:No assets to write.\n"
     ]
    }
   ],
   "source": [
    "builder.add_meta_graph_and_variables(sess,\n",
    "                                       [tf.saved_model.tag_constants.TRAINING],\n",
    "                                       signature_def_map=None,\n",
    "                                       assets_collection=None)"
   ]
  },
  {
   "cell_type": "code",
   "execution_count": 21,
   "metadata": {
    "collapsed": false
   },
   "outputs": [
    {
     "name": "stdout",
     "output_type": "stream",
     "text": [
      "INFO:tensorflow:SavedModel written to: b'./saved_model/saved_model.pb'\n"
     ]
    },
    {
     "data": {
      "text/plain": [
       "b'./saved_model/saved_model.pb'"
      ]
     },
     "execution_count": 21,
     "metadata": {},
     "output_type": "execute_result"
    }
   ],
   "source": [
    "builder.save()"
   ]
  },
  {
   "cell_type": "code",
   "execution_count": 24,
   "metadata": {
    "collapsed": false
   },
   "outputs": [
    {
     "data": {
      "text/plain": [
       "'classifier/Softmax:0'"
      ]
     },
     "execution_count": 24,
     "metadata": {},
     "output_type": "execute_result"
    }
   ],
   "source": [
    "y_predicted_.name"
   ]
  },
  {
   "cell_type": "code",
   "execution_count": null,
   "metadata": {
    "collapsed": true
   },
   "outputs": [],
   "source": []
  }
 ],
 "metadata": {
  "anaconda-cloud": {},
  "kernelspec": {
   "display_name": "Python [conda env:anaconda3-4.2.0]",
   "language": "python",
   "name": "conda-env-anaconda3-4.2.0-py"
  },
  "language_info": {
   "codemirror_mode": {
    "name": "ipython",
    "version": 3
   },
   "file_extension": ".py",
   "mimetype": "text/x-python",
   "name": "python",
   "nbconvert_exporter": "python",
   "pygments_lexer": "ipython3",
   "version": "3.5.2"
  }
 },
 "nbformat": 4,
 "nbformat_minor": 1
}
